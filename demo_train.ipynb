{
 "cells": [
  {
   "cell_type": "code",
   "execution_count": 1,
   "metadata": {},
   "outputs": [],
   "source": [
    "from __future__ import print_function\n",
    "import numpy as np\n",
    "import tensorflow as tf\n",
    "from six.moves import cPickle as pickle\n",
    "from six.moves import range\n",
    "import matplotlib.pyplot as plt\n"
   ]
  },
  {
   "cell_type": "code",
   "execution_count": 2,
   "metadata": {
    "collapsed": true
   },
   "outputs": [],
   "source": [
    "EXPORT_DIR=\"./pb\"\n",
    "\n",
    "# pickle file in which the preprocessed datasets are stored\n",
    "PICKLE_FILE = 'pickles/blood_cells_new_bnw.pickle'\n"
   ]
  },
  {
   "cell_type": "code",
   "execution_count": 3,
   "metadata": {
    "collapsed": true
   },
   "outputs": [],
   "source": [
    "NUM_CLASSES=4\n",
    "\n",
    "IMAGE_HEIGHT = 120\n",
    "IMAGE_WIDTH= 160\n",
    "NUM_CHANNELS = 1\n",
    "\n",
    "BATCH_SIZE = 200\n",
    "PATCH_SIZE1 = 1\n",
    "PATCH_SIZE2 = 4\n",
    "DEPTH1 =8\n",
    "DEPTH2=16\n",
    "DEPTH3=16\n",
    "NUM_HIDDEN = 25\n",
    "\n",
    "BETA=0.07\n",
    "DROPOUT_RATE=0.1\n",
    "\n",
    "start_learning_rate=0.01\n",
    "decay_rate=0.4\n",
    "decay_steps=2000\n",
    "losses=[]\n",
    "steps=[]\n",
    "\n",
    "NUM_STEPS = 500\n"
   ]
  },
  {
   "cell_type": "code",
   "execution_count": 4,
   "metadata": {},
   "outputs": [
    {
     "name": "stdout",
     "output_type": "stream",
     "text": [
      "Training set (1600, 120, 160) (1600,)\n",
      "Validation set (320, 120, 160) (320,)\n",
      "Test set (4, 120, 160) (4,)\n"
     ]
    }
   ],
   "source": [
    "\n",
    "# Loading datasets from pickle files\n",
    "with open(PICKLE_FILE, 'rb') as f:\n",
    "    save = pickle.load(f)\n",
    "    train_dataset = save['train_dataset']\n",
    "    train_labels = save['train_labels']\n",
    "    valid_dataset = save['valid_dataset']\n",
    "    valid_labels = save['valid_labels']\n",
    "    test_dataset = save['test_dataset']\n",
    "    test_labels = save['test_labels']\n",
    "    del save  # hint to help gc free up memory\n",
    "    print('Training set', train_dataset.shape, train_labels.shape)\n",
    "    print('Validation set', valid_dataset.shape, valid_labels.shape)\n",
    "    print('Test set', test_dataset.shape, test_labels.shape)\n"
   ]
  },
  {
   "cell_type": "code",
   "execution_count": 5,
   "metadata": {},
   "outputs": [
    {
     "name": "stdout",
     "output_type": "stream",
     "text": [
      "Training set (1600, 120, 160, 1) (1600, 4)\n",
      "Validation set (320, 120, 160, 1) (320, 4)\n",
      "Test set (4, 120, 160, 1) (4, 4)\n"
     ]
    }
   ],
   "source": [
    "# Converting data to required format\n",
    "def reformat(dataset, labels):\n",
    "    dataset = dataset.reshape((-1, IMAGE_HEIGHT, IMAGE_WIDTH, NUM_CHANNELS)).astype(np.float32)\n",
    "    labels = (np.arange(NUM_CLASSES) == labels[:,None]).astype(np.float32)\n",
    "    return dataset, labels\n",
    "\n",
    "train_dataset, train_labels = reformat(train_dataset, train_labels)\n",
    "valid_dataset, valid_labels = reformat(valid_dataset, valid_labels)\n",
    "test_dataset, test_labels = reformat(test_dataset, test_labels)\n",
    "print('Training set', train_dataset.shape, train_labels.shape)\n",
    "print('Validation set', valid_dataset.shape, valid_labels.shape)\n",
    "print('Test set', test_dataset.shape, test_labels.shape)\n"
   ]
  },
  {
   "cell_type": "code",
   "execution_count": 6,
   "metadata": {
    "collapsed": true
   },
   "outputs": [],
   "source": [
    "# Create some wrappers for simplicity\n",
    "def conv2d(x, W, b, strides=1):\n",
    "    # Conv2D wrapper, with bias and relu activation\n",
    "    x = tf.nn.conv2d(x, W, strides=[1, strides, strides, 1], padding='SAME')\n",
    "    x = tf.nn.bias_add(x, b)\n",
    "    return tf.nn.relu(x)\n",
    "\n",
    "def maxpool2d(x,stride):\n",
    "    return tf.nn.max_pool(x,ksize=[1,2,2,1],strides=[1,stride,stride,1],padding='SAME')\n",
    "\n",
    "def accuracy(predictions, labels):\n",
    "    return (100.0 * np.sum(np.argmax(predictions, 1) == np.argmax(labels, 1))/ predictions.shape[0])\n",
    "\n"
   ]
  },
  {
   "cell_type": "code",
   "execution_count": 7,
   "metadata": {
    "collapsed": true
   },
   "outputs": [],
   "source": [
    "\n",
    "graph = tf.Graph()\n",
    "\n",
    "with graph.as_default():\n",
    "\n",
    "  # Input data.\n",
    "    tf_train_dataset = tf.placeholder(tf.float32, shape=(BATCH_SIZE, IMAGE_HEIGHT, IMAGE_WIDTH, NUM_CHANNELS))\n",
    "    tf_train_labels = tf.placeholder(tf.float32, shape=(BATCH_SIZE, NUM_CLASSES))\n",
    "    tf_valid_dataset = tf.constant(valid_dataset)\n",
    "    keep_prob=tf.placeholder(tf.float32)\n",
    "\n",
    "    # Variables.\n",
    "    layer1_weights = tf.get_variable(\"layer1_weights\",shape=[PATCH_SIZE1, PATCH_SIZE1, NUM_CHANNELS, DEPTH1], initializer=tf.contrib.layers.xavier_initializer())\n",
    "    layer1_biases = tf.Variable(tf.zeros([DEPTH1]))\n",
    "    layer2_weights = tf.get_variable(\"layer2_weights\",shape=[PATCH_SIZE1, PATCH_SIZE1, DEPTH1, DEPTH2], initializer=tf.contrib.layers.xavier_initializer())\n",
    "    layer2_biases = tf.Variable(tf.constant(1.0, shape=[DEPTH2]))\n",
    "    layer3_weights =tf.get_variable(\"layer3_weights\",shape=[PATCH_SIZE2, PATCH_SIZE2, DEPTH2, DEPTH3], initializer=tf.contrib.layers.xavier_initializer())\n",
    "    layer3_biases = tf.Variable(tf.constant(1.0, shape=[DEPTH3]))\n",
    "    layer4_weights = tf.get_variable(\"layer4_weights\",shape=[IMAGE_HEIGHT // 4 * IMAGE_WIDTH // 4 * DEPTH3, NUM_HIDDEN], initializer=tf.contrib.layers.xavier_initializer())\n",
    "    layer4_biases = tf.Variable(tf.constant(1.0, shape=[NUM_HIDDEN]))\n",
    "    layer5_weights = tf.get_variable(\"layer5_weights\",shape=[NUM_HIDDEN, NUM_CLASSES], initializer=tf.contrib.layers.xavier_initializer())\n",
    "    layer5_biases = tf.Variable(tf.constant(1.0, shape=[NUM_CLASSES]))\n",
    "\n",
    "  # Model.\n",
    "    def model(data,keep_prob):\n",
    "        conv1 = tf.nn.conv2d(data, layer1_weights, [1, 1, 1, 1], padding='SAME')\n",
    "        hidden1 = tf.nn.relu(conv1 + layer1_biases)\n",
    "        hidden1=maxpool2d(hidden1,2)\n",
    "        conv2 = tf.nn.conv2d(hidden1, layer2_weights, [1, 1, 1, 1], padding='SAME')\n",
    "        hidden2 = tf.nn.relu(conv2 + layer2_biases)\n",
    "        hidden2=maxpool2d(hidden2,2)\n",
    "        conv3= tf.nn.conv2d(hidden2, layer3_weights, [1, 1, 1, 1], padding='SAME')\n",
    "        hidden3 = tf.nn.relu(conv3 + layer3_biases)\n",
    "        hidden3=maxpool2d(hidden3,1)\n",
    "        shape = hidden3.get_shape().as_list()\n",
    "        fc = tf.reshape(hidden3, [shape[0], shape[1] * shape[2] * shape[3]])\n",
    "        fc = tf.nn.relu(tf.matmul(fc, layer4_weights) + layer4_biases)\n",
    "        output=tf.matmul(fc, layer5_weights) + layer5_biases\n",
    "        return output\n",
    "\n",
    "    # Training computation.\n",
    "    logits = model(tf_train_dataset,keep_prob)\n",
    "    loss = tf.reduce_mean(tf.nn.softmax_cross_entropy_with_logits(labels=tf_train_labels, logits=logits))\n",
    "    regularizers=tf.nn.l2_loss(layer1_weights)+tf.nn.l2_loss(layer2_weights)+tf.nn.l2_loss(layer3_weights)+tf.nn.l2_loss(layer4_weights)+tf.nn.l2_loss(layer5_weights)\n",
    "    loss=tf.reduce_mean(loss+BETA*regularizers)\n",
    "\n",
    "    # Decaying learning rate\n",
    "    global_step = tf.Variable(0)  # count the number of steps taken.\n",
    "    learning_rate = tf.train.exponential_decay(start_learning_rate, global_step,decay_steps, decay_rate, staircase=True)\n",
    "    optimizer = tf.train.AdamOptimizer().minimize(loss,global_step=global_step)\n",
    "    #optimizer = tf.train.GradientDescentOptimizer(learning_rate=learning_rate).minimize(loss,global_step=global_step)\n",
    "\n",
    "    # Predictions\n",
    "    train_prediction = tf.nn.softmax(logits)\n",
    "    valid_prediction = tf.nn.softmax(model(tf_valid_dataset,1.0))\n"
   ]
  },
  {
   "cell_type": "code",
   "execution_count": 8,
   "metadata": {},
   "outputs": [
    {
     "name": "stdout",
     "output_type": "stream",
     "text": [
      "Initialized\n",
      "Minibatch loss at step 0: 5.889956\n",
      "Minibatch accuracy: 29.5%\n",
      "Validation accuracy: 25.0%\n",
      "Minibatch loss at step 50: 3.749430\n",
      "Minibatch accuracy: 27.0%\n",
      "Validation accuracy: 25.0%\n",
      "Minibatch loss at step 100: 3.345860\n",
      "Minibatch accuracy: 27.5%\n",
      "Validation accuracy: 25.3%\n",
      "Minibatch loss at step 150: 3.028742\n",
      "Minibatch accuracy: 18.0%\n",
      "Validation accuracy: 25.6%\n",
      "Minibatch loss at step 200: 2.769534\n",
      "Minibatch accuracy: 31.5%\n",
      "Validation accuracy: 25.9%\n",
      "Minibatch loss at step 250: 2.563242\n",
      "Minibatch accuracy: 33.0%\n",
      "Validation accuracy: 22.8%\n",
      "Minibatch loss at step 300: 2.398263\n",
      "Minibatch accuracy: 23.0%\n",
      "Validation accuracy: 22.8%\n",
      "Minibatch loss at step 350: 2.262362\n",
      "Minibatch accuracy: 26.5%\n",
      "Validation accuracy: 25.9%\n",
      "Minibatch loss at step 400: 2.152020\n",
      "Minibatch accuracy: 19.0%\n",
      "Validation accuracy: 25.6%\n",
      "Minibatch loss at step 450: 2.057349\n",
      "Minibatch accuracy: 27.0%\n",
      "Validation accuracy: 25.0%\n"
     ]
    },
    {
     "data": {
      "image/png": "[encoded data removed]",
      "text/plain": [
       "<matplotlib.figure.Figure at 0x10004e768450>"
      ]
     },
     "metadata": {},
     "output_type": "display_data"
    }
   ],
   "source": [
    "\n",
    "config = tf.ConfigProto()\n",
    "#config.gpu_options.allow_growth = True\n",
    "#,config=config\n",
    "with tf.Session(graph=graph,config=config) as session:\n",
    "    tf.global_variables_initializer().run()\n",
    "    print('Initialized')\n",
    "    for step in range(NUM_STEPS):\n",
    "        offset = (step * BATCH_SIZE) % (train_labels.shape[0] - BATCH_SIZE)\n",
    "        batch_data = train_dataset[offset:(offset + BATCH_SIZE), :, :, :]\n",
    "        batch_labels = train_labels[offset:(offset + BATCH_SIZE), :]\n",
    "        feed_dict = {tf_train_dataset : batch_data, tf_train_labels : batch_labels,keep_prob:DROPOUT_RATE}\n",
    "        _, l, predictions = session.run([optimizer, loss, train_prediction], feed_dict=feed_dict)\n",
    "        if (step % 50 == 0):\n",
    "            print('Minibatch loss at step %d: %f' % (step, l))\n",
    "            print('Minibatch accuracy: %.1f%%' % accuracy(predictions, batch_labels))\n",
    "            v_accuracy=accuracy(valid_prediction.eval(), valid_labels)\n",
    "            print('Validation accuracy: %.1f%%' % v_accuracy)\n",
    "            losses.append(l)\n",
    "            steps.append(step)\n",
    "            if v_accuracy>55:\n",
    "                break\n",
    "\n",
    "    plt.plot(steps,losses)\n",
    "    plt.xlabel('Steps')\n",
    "    plt.ylabel('Loss')\n",
    "    plt.show()\n",
    "    \n",
    "    WC1 = layer1_weights.eval(session)\n",
    "    BC1 = layer1_biases.eval(session)\n",
    "    WC2 = layer2_weights.eval(session)\n",
    "    BC2 = layer2_biases.eval(session)\n",
    "    WC3 = layer3_weights.eval(session)\n",
    "    BC3 = layer3_biases.eval(session)\n",
    "    WD1 = layer4_weights.eval(session)\n",
    "    BD1 = layer4_biases.eval(session)\n",
    "    W_OUT = layer5_weights.eval(session)\n",
    "    B_OUT = layer5_biases.eval(session)\n"
   ]
  },
  {
   "cell_type": "code",
   "execution_count": 9,
   "metadata": {},
   "outputs": [
    {
     "name": "stdout",
     "output_type": "stream",
     "text": [
      "WARNING:tensorflow:From <ipython-input-9-4c83ccf36ffc>:36: initialize_all_variables (from tensorflow.python.ops.variables) is deprecated and will be removed after 2017-03-02.\n",
      "Instructions for updating:\n",
      "Use `tf.global_variables_initializer` instead.\n",
      "Model accuracy 0.25\n"
     ]
    }
   ],
   "source": [
    "\n",
    "g = tf.Graph()\n",
    "with g.as_default():\n",
    "    x_input = tf.placeholder(tf.float32, shape=[None,IMAGE_HEIGHT, IMAGE_WIDTH,NUM_CHANNELS], name=\"input\")\n",
    "\n",
    "    WC1 = tf.constant(WC1, name=\"WC1\")\n",
    "    BC1 = tf.constant(BC1, name=\"BC1\")\n",
    "    CONV1 = conv2d(x_input, WC1, BC1)\n",
    "    MAXPOOL1 = maxpool2d(CONV1, 2)\n",
    "\n",
    "    WC2 = tf.constant(WC2, name=\"WC2\")\n",
    "    BC2 = tf.constant(BC2, name=\"BC2\")\n",
    "    CONV2 = conv2d(MAXPOOL1, WC2, BC2)\n",
    "    MAXPOOL2 = maxpool2d(CONV2,2)\n",
    "\n",
    "    WC3 = tf.constant(WC3, name=\"WC3\")\n",
    "    BC3 = tf.constant(BC3, name=\"BC3\")\n",
    "    CONV3 = conv2d(MAXPOOL2, WC3, BC3)\n",
    "    MAXPOOL3 = maxpool2d(CONV3,1)\n",
    "\n",
    "    WD1 = tf.constant(WD1, name=\"WD1\")\n",
    "    BD1 = tf.constant(BD1, name=\"BD1\")\n",
    "\n",
    "    FC1 = tf.reshape(MAXPOOL3, [-1, WD1.get_shape().as_list()[0]])\n",
    "    FC1 = tf.add(tf.matmul(FC1, WD1), BD1)\n",
    "    FC1 = tf.nn.relu(FC1)\n",
    "\n",
    "    W_OUT = tf.constant(W_OUT, name=\"W_OUT\")\n",
    "    B_OUT = tf.constant(B_OUT, name=\"B_OUT\")\n",
    "\n",
    "    # skipped dropout for exported graph as there is no need for already calculated weights\n",
    "\n",
    "    OUTPUT = tf.nn.softmax(tf.matmul(FC1, W_OUT) + B_OUT, name=\"output\")\n",
    "\n",
    "    sess = tf.Session()\n",
    "    init = tf.initialize_all_variables()\n",
    "    sess.run(init)\n",
    "\n",
    "    graph_def = g.as_graph_def()\n",
    "    tf.train.write_graph(graph_def, EXPORT_DIR, 'blood_cell_atemp.pb', as_text=False)\n",
    "\n",
    "    # Test trained model\n",
    "    y_train = tf.placeholder(\"float\", [None, NUM_CLASSES])\n",
    "    correct_prediction = tf.equal(tf.argmax(OUTPUT, 1), tf.argmax(y_train, 1))\n",
    "    accuracy = tf.reduce_mean(tf.cast(correct_prediction, \"float\"))\n",
    "    print(\"Model accuracy %g\" % accuracy.eval({x_input: test_dataset, y_train: test_labels}, sess))"
   ]
  },
  {
   "cell_type": "code",
   "execution_count": null,
   "metadata": {
    "collapsed": true
   },
   "outputs": [],
   "source": []
  }
 ],
 "metadata": {
  "kernelspec": {
   "display_name": "Python 2",
   "language": "python",
   "name": "python2"
  },
  "language_info": {
   "codemirror_mode": {
    "name": "ipython",
    "version": 2
   },
   "file_extension": ".py",
   "mimetype": "text/x-python",
   "name": "python",
   "nbconvert_exporter": "python",
   "pygments_lexer": "ipython2",
   "version": "2.7.12"
  }
 },
 "nbformat": 4,
 "nbformat_minor": 2
}
