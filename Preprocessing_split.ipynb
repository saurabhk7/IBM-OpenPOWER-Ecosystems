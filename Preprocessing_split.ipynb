{
 "cells": [
  {
   "cell_type": "code",
   "execution_count": 1,
   "metadata": {
    "collapsed": true
   },
   "outputs": [],
   "source": [
    "# Imports\n",
    "from __future__ import print_function\n",
    "import numpy as np\n",
    "import os\n",
    "import sys\n",
    "from IPython.display import display, Image\n",
    "from scipy import ndimage\n",
    "import scipy.misc\n",
    "from six.moves import cPickle as pickle\n",
    "import random"
   ]
  },
  {
   "cell_type": "code",
   "execution_count": 2,
   "metadata": {
    "collapsed": true
   },
   "outputs": [],
   "source": [
    "# Constants\n",
    "data_root='pickles'\n",
    "final_pickle='blood_cells_temp.pickle'\n",
    "train_folders=['TRAIN/EOSINOPHIL','TRAIN/LYMPHOCYTE','TRAIN/MONOCYTE','TRAIN/NEUTROPHIL']\n",
    "\n",
    "num_classes = 4\n",
    "np.random.seed(133)\n",
    "image_height = 120 \n",
    "image_width = 160\n",
    "pixel_depth = 255.0\n",
    "num_channels = 1\n",
    "\n",
    "train_size = 800\n",
    "valid_size = 160\n",
    "test_size = 160"
   ]
  },
  {
   "cell_type": "code",
   "execution_count": 3,
   "metadata": {
    "collapsed": true
   },
   "outputs": [],
   "source": [
    "# Function for converting image from RGB to grayscale\n",
    "def rgb2gray(rgb):\n",
    "    return np.dot(rgb[...,:3], [0.299, 0.587, 0.114])\n",
    "\n",
    "# Function for loading data for a single bloodcell label\n",
    "def load_bloodcell(folder):\n",
    "    image_files = os.listdir(folder)\n",
    "    random.shuffle(image_files)\n",
    "    dataset = np.ndarray(shape=(len(image_files), image_height, image_width),dtype=np.float32)\n",
    "    print(folder)\n",
    "    num_images = 0\n",
    "    for image in image_files:\n",
    "        image_file = os.path.join(folder, image)\n",
    "        try:\n",
    "            image_data = (ndimage.imread(image_file).astype(float))\n",
    "            image_data=scipy.misc.imresize(image_data,(image_height,image_width))\n",
    "            image_data=rgb2gray(image_data)\n",
    "            dataset[num_images, :, :] = image_data\n",
    "            num_images = num_images + 1\n",
    "        except IOError as e:\n",
    "            print('Could not read:', image_file, ':', e, '- it\\'s ok, skipping.')\n",
    "\n",
    "    dataset = dataset[0:num_images, :, :]\n",
    "    mean=np.mean(dataset)\n",
    "    dataset-=mean\n",
    "    dataset/=pixel_depth\n",
    "    print('Full dataset tensor:', dataset.shape)\n",
    "    print('Mean:', np.mean(dataset))\n",
    "    print('Standard deviation:', np.std(dataset))\n",
    "    return dataset\n"
   ]
  },
  {
   "cell_type": "code",
   "execution_count": 4,
   "metadata": {},
   "outputs": [
    {
     "name": "stdout",
     "output_type": "stream",
     "text": [
      "TRAIN/EOSINOPHIL.pickle already present - Skipping pickling.\n",
      "TRAIN/LYMPHOCYTE.pickle already present - Skipping pickling.\n",
      "TRAIN/MONOCYTE.pickle already present - Skipping pickling.\n",
      "TRAIN/NEUTROPHIL.pickle already present - Skipping pickling.\n"
     ]
    }
   ],
   "source": [
    "# Function for converting data into separate pickle files for each label\n",
    "def maybe_pickle(data_folders, force=False):\n",
    "    dataset_names = []\n",
    "    for folder in data_folders:\n",
    "        set_filename = folder + '.pickle'\n",
    "        dataset_names.append(set_filename)\n",
    "        if os.path.exists(set_filename) and not force:\n",
    "          # You may override by setting force=True.\n",
    "            print('%s already present - Skipping pickling.' % set_filename)\n",
    "        else:\n",
    "            print('Pickling %s.' % set_filename)\n",
    "            dataset = load_bloodcell(folder, min_num_images_per_class)\n",
    "            try:\n",
    "                with open(set_filename, 'wb') as f:\n",
    "                    pickle.dump(dataset, f, pickle.HIGHEST_PROTOCOL)\n",
    "            except Exception as e:\n",
    "                print('Unable to save data to', set_filename, ':', e)\n",
    "    return dataset_names\n",
    "\n",
    "train_datasets = maybe_pickle(train_folders)\n"
   ]
  },
  {
   "cell_type": "code",
   "execution_count": 5,
   "metadata": {
    "collapsed": true
   },
   "outputs": [],
   "source": [
    "# Function for formatting the data according to image size and number of examples\n",
    "def make_arrays(nb_rows, img_height,img_width):\n",
    "  if nb_rows:\n",
    "    dataset = np.ndarray((nb_rows, img_height, img_width), dtype=np.float32)\n",
    "    labels = np.ndarray(nb_rows, dtype=np.int32)\n",
    "  else:\n",
    "    dataset, labels = None, None\n",
    "  return dataset, labels"
   ]
  },
  {
   "cell_type": "code",
   "execution_count": 6,
   "metadata": {},
   "outputs": [
    {
     "name": "stdout",
     "output_type": "stream",
     "text": [
      "Training: (800, 120, 160) (800,)\n",
      "Validation: (160, 120, 160) (160,)\n",
      "Testing: (160, 120, 160) (160,)\n"
     ]
    }
   ],
   "source": [
    "# Function for merging the pickle files of different labels and creating training, validation and test datasets\n",
    "def merge_datasets(pickle_files, train_size,test_size, valid_size):\n",
    "    num_classes = len(pickle_files)\n",
    "    valid_dataset, valid_labels = make_arrays(valid_size, image_height,image_width)\n",
    "    test_dataset, test_labels = make_arrays(test_size, image_height,image_width)\n",
    "    train_dataset, train_labels = make_arrays(train_size, image_height,image_width)\n",
    "    vsize_per_class = valid_size // num_classes\n",
    "    testsize_per_class=test_size//num_classes\n",
    "    tsize_per_class = train_size // num_classes\n",
    "\n",
    "    start_v, start_t ,start_test= 0, 0, 0\n",
    "    end_v, end_t ,end_test= vsize_per_class, tsize_per_class,testsize_per_class\n",
    "    end_l = vsize_per_class+tsize_per_class+testsize_per_class\n",
    "    for label, pickle_file in enumerate(pickle_files):\n",
    "        try:\n",
    "            with open(pickle_file, 'rb') as f:\n",
    "                bloodcell_set = pickle.load(f)\n",
    "                # let's shuffle the bloodcells to have random validation and training set\n",
    "                np.random.shuffle(bloodcell_set)\n",
    "                if valid_dataset is not None:\n",
    "                    valid_bloodcell = bloodcell_set[:vsize_per_class, :, :]\n",
    "                    valid_dataset[start_v:end_v, :, :] = valid_bloodcell\n",
    "                    valid_labels[start_v:end_v] = label\n",
    "                    start_v += vsize_per_class\n",
    "                    end_v += vsize_per_class\n",
    "\n",
    "                test_bloodcell = bloodcell_set[vsize_per_class:vsize_per_class+testsize_per_class, :, :]\n",
    "                test_dataset[start_test:end_test, :, :] = test_bloodcell\n",
    "                test_labels[start_test:end_test] = label\n",
    "                start_test += testsize_per_class\n",
    "                end_test += testsize_per_class\n",
    "\n",
    "                train_bloodcell = bloodcell_set[vsize_per_class+testsize_per_class:end_l, :, :]\n",
    "                train_dataset[start_t:end_t, :, :] = train_bloodcell\n",
    "                train_labels[start_t:end_t] = label\n",
    "                start_t += tsize_per_class\n",
    "                end_t += tsize_per_class\n",
    "        except Exception as e:\n",
    "            print('Unable to process data from', pickle_file, ':', e)\n",
    "            raise\n",
    "\n",
    "    return valid_dataset, valid_labels,test_dataset,test_labels, train_dataset, train_labels\n",
    "\n",
    "valid_dataset, valid_labels,test_dataset, test_labels, train_dataset, train_labels = merge_datasets(train_datasets, train_size,test_size, valid_size)\n",
    "print('Training:', train_dataset.shape, train_labels.shape)\n",
    "print('Validation:', valid_dataset.shape, valid_labels.shape)\n",
    "print('Testing:', test_dataset.shape, test_labels.shape)"
   ]
  },
  {
   "cell_type": "code",
   "execution_count": 7,
   "metadata": {
    "collapsed": true
   },
   "outputs": [],
   "source": [
    "# Randomly shuffling the data\n",
    "def randomize(dataset, labels):\n",
    "  permutation = np.random.permutation(labels.shape[0])\n",
    "  shuffled_dataset = dataset[permutation,:]\n",
    "  shuffled_labels = labels[permutation]\n",
    "  return shuffled_dataset, shuffled_labels\n",
    "train_dataset, train_labels = randomize(train_dataset, train_labels)\n",
    "test_dataset, test_labels = randomize(test_dataset, test_labels)\n",
    "valid_dataset, valid_labels = randomize(valid_dataset, valid_labels)"
   ]
  },
  {
   "cell_type": "code",
   "execution_count": 8,
   "metadata": {},
   "outputs": [
    {
     "name": "stdout",
     "output_type": "stream",
     "text": [
      "Compressed pickle size: 86020913\n"
     ]
    }
   ],
   "source": [
    "# Saving the final pickle file containing training, validation and test data\n",
    "final_pickle = os.path.join(data_root,final_pickle)\n",
    "try:\n",
    "    with open(final_pickle, 'wb') as f:\n",
    "        save = {\n",
    "            'train_dataset': train_dataset,\n",
    "            'train_labels': train_labels,\n",
    "            'valid_dataset': valid_dataset,\n",
    "            'valid_labels': valid_labels,\n",
    "            'test_dataset': test_dataset,\n",
    "            'test_labels': test_labels,\n",
    "            }\n",
    "        pickle.dump(save, f, pickle.HIGHEST_PROTOCOL)\n",
    "        f.close()\n",
    "except Exception as e:\n",
    "    print('Unable to save data to', final_pickle, ':', e)\n",
    "    raise\n",
    "\n",
    "statinfo = os.stat(final_pickle)\n",
    "print('Compressed pickle size:', statinfo.st_size)\n"
   ]
  },
  {
   "cell_type": "code",
   "execution_count": null,
   "metadata": {
    "collapsed": true
   },
   "outputs": [],
   "source": []
  },
  {
   "cell_type": "code",
   "execution_count": null,
   "metadata": {
    "collapsed": true
   },
   "outputs": [],
   "source": []
  },
  {
   "cell_type": "code",
   "execution_count": null,
   "metadata": {
    "collapsed": true
   },
   "outputs": [],
   "source": []
  }
 ],
 "metadata": {
  "kernelspec": {
   "display_name": "Python 2",
   "language": "python",
   "name": "python2"
  },
  "language_info": {
   "codemirror_mode": {
    "name": "ipython",
    "version": 2
   },
   "file_extension": ".py",
   "mimetype": "text/x-python",
   "name": "python",
   "nbconvert_exporter": "python",
   "pygments_lexer": "ipython2",
   "version": "2.7.12"
  }
 },
 "nbformat": 4,
 "nbformat_minor": 2
}
